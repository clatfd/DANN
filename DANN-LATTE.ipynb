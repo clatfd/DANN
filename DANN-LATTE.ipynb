{
 "cells": [
  {
   "cell_type": "code",
   "execution_count": null,
   "metadata": {},
   "outputs": [],
   "source": [
    "# Domain adaptive lesion classification\n",
    "# Article ID: MRM28794\n",
    "# Article DOI: 10.1002/mrm.28794\n",
    "# Article: Domain Adaptive and Fully Automated Carotid Artery Atherosclerotic Lesion Detection using an Artificial Intelligence Approach (LATTE) on 3D MRI\n",
    "# Journal: Magnetic Resonance in Medicine\n",
    "# Code adpted from https://github.com/pumpikano/tf-dann\n",
    "# By Li Chen\n",
    "# 4/2/2021"
   ]
  },
  {
   "cell_type": "code",
   "execution_count": 15,
   "metadata": {},
   "outputs": [
    {
     "name": "stdout",
     "output_type": "stream",
     "text": [
      "The autoreload extension is already loaded. To reload it, use:\n",
      "  %reload_ext autoreload\n",
      "1.15.0 2.3.1\n"
     ]
    }
   ],
   "source": [
    "%load_ext autoreload\n",
    "%autoreload 2\n",
    "\n",
    "import os\n",
    "os.environ[\"CUDA_VISIBLE_DEVICES\"]=\"2\"\n",
    "import tensorflow as tf\n",
    "\n",
    "import keras\n",
    "from keras.backend.tensorflow_backend import set_session\n",
    "config2 = tf.ConfigProto()\n",
    "config2.gpu_options.allow_growth = True\n",
    "set_session(tf.Session(config=config2))\n",
    "\n",
    "from tensorflow.python.client import device_lib\n",
    "def get_available_gpus():\n",
    "    local_device_protos = device_lib.list_local_devices()\n",
    "    return [x.name for x in local_device_protos if x.device_type == 'GPU']\n",
    "get_available_gpus()\n",
    "\n",
    "import matplotlib.pyplot as plt\n",
    "import numpy as np\n",
    "\n",
    "print(tf.__version__,keras.__version__)"
   ]
  },
  {
   "cell_type": "code",
   "execution_count": 4,
   "metadata": {},
   "outputs": [
    {
     "data": {
      "application/javascript": [
       "$('<div id=\"toc\"></div>').css({position: 'fixed', top: '120px', left: 0}).appendTo(document.body);\n",
       "$.getScript('https://kmahelona.github.io/ipython_notebook_goodies/ipython_notebook_toc.js');\n"
      ],
      "text/plain": [
       "<IPython.core.display.Javascript object>"
      ]
     },
     "metadata": {},
     "output_type": "display_data"
    }
   ],
   "source": [
    "%%javascript\n",
    "$('<div id=\"toc\"></div>').css({position: 'fixed', top: '120px', left: 0}).appendTo(document.body);\n",
    "$.getScript('https://kmahelona.github.io/ipython_notebook_goodies/ipython_notebook_toc.js');"
   ]
  },
  {
   "cell_type": "markdown",
   "metadata": {},
   "source": [
    "# Load data"
   ]
  },
  {
   "cell_type": "code",
   "execution_count": 10,
   "metadata": {},
   "outputs": [
    {
     "name": "stdout",
     "output_type": "stream",
     "text": [
      "source cases 54 target cases 76\n"
     ]
    }
   ],
   "source": [
    "#project folder for LATTE\n",
    "latte_result_dir = r'//DESKTOP4/Dtensorflow\\LiChen\\3DM\\LATTE\\results/'\n",
    "\n",
    "#source domain, originally trained dataset\n",
    "source_config = {'pjname':'CAREIIMERGE', 'datadir':r'X:\\trials\\3dmerge_deep_learning_for_lesion_detection\\images',\n",
    "                 'fromvts':1, 'vtsseq':'S101', 'GTSRC' : 'READCSVALL', 'INCLUDELIST':['P102', 'P128', 'P130', 'P158', 'P182', 'P196', 'P20', 'P21', 'P237', 'P252', 'P272', 'P285', 'P347', 'P376', 'P379', 'P388', 'P41', 'P438', 'P458', 'P470', 'P481', 'P483', 'P495', 'P503', 'P504', 'P530', 'P557', 'P573', 'P576', 'P651', 'P657', 'P664', 'P673', 'P69', 'P709', 'P711', 'P723', 'P732', 'P742', 'P789', 'P80', 'P855', 'P890', 'P891', 'P910', 'P935', 'P937', 'P944', 'P945', 'P951', 'P959', 'P961', 'P967', 'P975']}\n",
    "source_pjname = source_config['pjname']\n",
    "source_cdir = latte_result_dir+'/'+source_pjname\n",
    "source_config['cdir'] = source_cdir\n",
    "\n",
    "#target domain, new dataset without labels (labels are provided here for only evaluation purpose)\n",
    "target_config = {'pjname':'RenjiMERGE', 'datadir':r'Y:\\Li Chen\\RenjiMERGE', 'fromvts':0, 'GTSRC' : 'READCSVALL'}\n",
    "target_pjname = target_config['pjname']\n",
    "target_cdir = latte_result_dir+'/'+target_pjname\n",
    "target_config['cdir'] = target_cdir\n",
    "\n",
    "#load pilist\n",
    "if 'INCLUDELIST' in source_config:\n",
    "    source_pilist = source_config['INCLUDELIST']\n",
    "else:\n",
    "    source_pilist = os.listdir(latte_result_dir+'/'+source_config['pjname']+'/3Dmergelist')\n",
    "target_pilist = os.listdir(latte_result_dir+'/'+target_config['pjname']+'/3Dmergelist')\n",
    "if 'EXCLUDELIST' in target_config:\n",
    "    target_pilist = list(set(target_pilist) - set(target_config['EXCLUDELIST']))\n",
    "    print('excluded',target_config['EXCLUDELIST'])\n",
    "    \n",
    "print('source cases',len(source_pilist),'target cases',len(target_pilist))"
   ]
  },
  {
   "cell_type": "code",
   "execution_count": 12,
   "metadata": {},
   "outputs": [],
   "source": [
    "#pre-load validation set \n",
    "from db import data_generator, load_patch\n",
    "\n",
    "#last XX cases from the source dataset\n",
    "val_arr, val_label, val_src = load_patch(source_pilist[-2:],source_config,skip=10,load_gt=True,load_src=True)\n",
    "\n",
    "# optional\n",
    "#test_arr, test_label = load_patch(target_pilist[-10:],target_config,skip=10,load_gt=False)\n",
    "#debug\n",
    "test_arr, test_label, test_src = load_patch(target_pilist[-2:],target_config,skip=10,load_gt=True,load_src=True)"
   ]
  },
  {
   "cell_type": "code",
   "execution_count": 13,
   "metadata": {},
   "outputs": [
    {
     "data": {
      "text/plain": [
       "((42, 64, 64, 5, 2), (42,), 42)"
      ]
     },
     "execution_count": 13,
     "metadata": {},
     "output_type": "execute_result"
    }
   ],
   "source": [
    "val_arr.shape,val_label.shape,len(val_src)"
   ]
  },
  {
   "cell_type": "code",
   "execution_count": 16,
   "metadata": {},
   "outputs": [
    {
     "data": {
      "text/plain": [
       "(array([ 9.,  0.,  0.,  0.,  0., 23.,  0.,  0.,  0., 10.]),\n",
       " array([-1. , -0.8, -0.6, -0.4, -0.2,  0. ,  0.2,  0.4,  0.6,  0.8,  1. ]),\n",
       " <a list of 10 Patch objects>)"
      ]
     },
     "execution_count": 16,
     "metadata": {},
     "output_type": "execute_result"
    },
    {
     "data": {
      "image/png": "[encoded data removed]",
      "text/plain": [
       "<Figure size 432x288 with 1 Axes>"
      ]
     },
     "metadata": {
      "needs_background": "light"
     },
     "output_type": "display_data"
    }
   ],
   "source": [
    "#check histogram\n",
    "plt.hist(val_label)"
   ]
  },
  {
   "cell_type": "code",
   "execution_count": 17,
   "metadata": {},
   "outputs": [
    {
     "data": {
      "text/plain": [
       "<matplotlib.image.AxesImage at 0x1ffe5768ec8>"
      ]
     },
     "execution_count": 17,
     "metadata": {},
     "output_type": "execute_result"
    },
    {
     "data": {
      "image/png": "[encoded data removed]",
      "text/plain": [
       "<Figure size 432x288 with 1 Axes>"
      ]
     },
     "metadata": {
      "needs_background": "light"
     },
     "output_type": "display_data"
    }
   ],
   "source": [
    "#check slice\n",
    "plt.imshow(np.hstack([val_arr[2,:,:,3,0],val_arr[2,:,:,3,1]]))"
   ]
  },
  {
   "cell_type": "markdown",
   "metadata": {},
   "source": [
    "# Train"
   ]
  },
  {
   "cell_type": "code",
   "execution_count": 21,
   "metadata": {},
   "outputs": [
    {
     "name": "stdout",
     "output_type": "stream",
     "text": [
      "create new folderU:\\LiChen\\3DM\\LATTE\\DANN\\VWClass8-2-Base\n"
     ]
    }
   ],
   "source": [
    "taskname='VWClass8-2-Base'\n",
    "cdir = os.getcwd()\n",
    "resultdir = '//DESKTOP4/Dtensorflow/LiChen/3DM/LATTE/results/'\n",
    "newpath = os.path.join(cdir,taskname)\n",
    "if not os.path.exists(newpath):\n",
    "    os.makedirs(newpath)\n",
    "    print('create new folder'+newpath)\n",
    "    \n",
    "cfg = {}\n",
    "#num GPUs\n",
    "cfg['nGPU']=1\n",
    "#patch size\n",
    "cfg['patch_height'] = 64\n",
    "cfg['patch_width'] = 64\n",
    "cfg['depth'] = 5\n",
    "cfg['channel'] = 2\n",
    "cfg['cdir'] = cdir\n",
    "cfg['resultdir'] = resultdir\n",
    "cfg['types'] = 3\n",
    "cfg['LABELS'] = ['Normal Artery','Early Lesion','Advanced Lesion','Unlabeled']"
   ]
  },
  {
   "cell_type": "code",
   "execution_count": 23,
   "metadata": {},
   "outputs": [],
   "source": [
    "#training parameters\n",
    "enable_dann = True\n",
    "n_iterations = 15000\n",
    "batch_size = 64\n",
    "\n",
    "best_val = 0\n",
    "best_test = 0\n",
    "best_auc_adv = 0\n",
    "best_auc_all = 0\n",
    "\n",
    "from model import build_models\n",
    "\n",
    "model, source_classification_model, domain_classification_model, embeddings_model = build_models(cfg)\n",
    "\n",
    "from keras.utils import to_categorical\n",
    "#y_class_dummy = np.ones((len(train.xarray), 2))\n",
    "y_adversarial_1 = to_categorical(np.array(([1] * batch_size + [0] * batch_size)))\n",
    "y_adversarial_2 = to_categorical(np.array(([0] * batch_size + [1] * batch_size)))\n",
    "\n",
    "sample_weights_class = np.array(([1] * batch_size + [0] * batch_size))\n",
    "sample_weights_adversarial = np.ones((batch_size * 2,))\n",
    "\n",
    "S_batches = data_generator(source_pilist,source_config,batch_size,load_gt=True)\n",
    "T_batches = data_generator(target_pilist,target_config,batch_size,load_gt=False)"
   ]
  },
  {
   "cell_type": "code",
   "execution_count": 24,
   "metadata": {},
   "outputs": [
    {
     "name": "stdout",
     "output_type": "stream",
     "text": [
      "P102\n",
      "0516064\n",
      "WARNING:tensorflow:From D:\\LiChen\\Anaconda\\envs\\tf\\lib\\site-packages\\keras\\backend\\tensorflow_backend.py:422: The name tf.global_variables is deprecated. Please use tf.compat.v1.global_variables instead.\n",
      "\n",
      "P128\n",
      "P130\n",
      "9\n"
     ]
    },
    {
     "ename": "NameError",
     "evalue": "name 'accuracy_score' is not defined",
     "output_type": "error",
     "traceback": [
      "\u001b[1;31m---------------------------------------------------------------------------\u001b[0m",
      "\u001b[1;31mNameError\u001b[0m                                 Traceback (most recent call last)",
      "\u001b[1;32m<ipython-input-24-7d0e0d0729f2>\u001b[0m in \u001b[0;36m<module>\u001b[1;34m\u001b[0m\n\u001b[0;32m     56\u001b[0m         \u001b[1;31m#decidelesion is not accurate. threshold unknown\u001b[0m\u001b[1;33m\u001b[0m\u001b[1;33m\u001b[0m\u001b[1;33m\u001b[0m\u001b[0m\n\u001b[0;32m     57\u001b[0m         \u001b[0my_val_hat_t\u001b[0m \u001b[1;33m=\u001b[0m \u001b[1;33m[\u001b[0m\u001b[0mdecidelesion\u001b[0m\u001b[1;33m(\u001b[0m\u001b[0my_val_pred\u001b[0m\u001b[1;33m[\u001b[0m\u001b[0mi\u001b[0m\u001b[1;33m,\u001b[0m\u001b[1;36m0\u001b[0m\u001b[1;33m]\u001b[0m\u001b[1;33m,\u001b[0m\u001b[1;33m-\u001b[0m\u001b[1;36m0.5\u001b[0m\u001b[1;33m,\u001b[0m\u001b[1;36m0.5\u001b[0m\u001b[1;33m)\u001b[0m\u001b[1;33m[\u001b[0m\u001b[1;36m0\u001b[0m\u001b[1;33m]\u001b[0m \u001b[1;32mfor\u001b[0m \u001b[0mi\u001b[0m \u001b[1;32min\u001b[0m \u001b[0mrange\u001b[0m\u001b[1;33m(\u001b[0m\u001b[0mlen\u001b[0m\u001b[1;33m(\u001b[0m\u001b[0my_val_pred\u001b[0m\u001b[1;33m)\u001b[0m\u001b[1;33m)\u001b[0m\u001b[1;33m]\u001b[0m\u001b[1;33m\u001b[0m\u001b[1;33m\u001b[0m\u001b[0m\n\u001b[1;32m---> 58\u001b[1;33m         \u001b[0macc_val\u001b[0m \u001b[1;33m=\u001b[0m \u001b[0maccuracy_score\u001b[0m\u001b[1;33m(\u001b[0m\u001b[0mval_label\u001b[0m\u001b[1;33m,\u001b[0m \u001b[0my_val_hat_t\u001b[0m\u001b[1;33m)\u001b[0m\u001b[1;33m\u001b[0m\u001b[1;33m\u001b[0m\u001b[0m\n\u001b[0m\u001b[0;32m     59\u001b[0m \u001b[1;33m\u001b[0m\u001b[0m\n\u001b[0;32m     60\u001b[0m         \u001b[0my_test_pred\u001b[0m \u001b[1;33m=\u001b[0m \u001b[0msource_classification_model\u001b[0m\u001b[1;33m.\u001b[0m\u001b[0mpredict\u001b[0m\u001b[1;33m(\u001b[0m\u001b[0mtest_arr\u001b[0m\u001b[1;33m)\u001b[0m\u001b[1;33m\u001b[0m\u001b[1;33m\u001b[0m\u001b[0m\n",
      "\u001b[1;31mNameError\u001b[0m: name 'accuracy_score' is not defined"
     ]
    }
   ],
   "source": [
    "from eval import getauc, decidelesion\n",
    "from sklearn.metrics import accuracy_score\n",
    "\n",
    "for i in range(n_iterations):\n",
    "\n",
    "    X0, y0 = next(S_batches)\n",
    "    X1, y1 = next(T_batches)\n",
    "    \n",
    "    sample_weights_class = np.array(([1] * batch_size + [0] * batch_size))\n",
    "        \n",
    "    X_adv = np.concatenate([X0, X1])\n",
    "    y_class = np.concatenate([y0, np.zeros_like(y0)])\n",
    "\n",
    "    adv_weights = []\n",
    "    for layer in model.layers:\n",
    "        if (layer.name.startswith(\"do\")):\n",
    "            adv_weights.append(layer.get_weights())\n",
    "\n",
    "    if(enable_dann):\n",
    "        # note - even though we save and append weights, the batchnorms moving means and variances\n",
    "        # are not saved throught this mechanism \n",
    "        stats = model.train_on_batch(X_adv, [y_class, y_adversarial_1],\n",
    "                                 sample_weight=[sample_weights_class, sample_weights_adversarial])\n",
    "\n",
    "        k = 0\n",
    "        for layer in model.layers:\n",
    "            if (layer.name.startswith(\"do\")):\n",
    "                layer.set_weights(adv_weights[k])\n",
    "                k += 1\n",
    "\n",
    "        class_weights = []\n",
    "\n",
    "\n",
    "        for layer in model.layers:\n",
    "            if (not layer.name.startswith(\"do\")):\n",
    "                class_weights.append(layer.get_weights())\n",
    "\n",
    "        stats2 = domain_classification_model.train_on_batch(X_adv, [y_adversarial_2])\n",
    "\n",
    "        k = 0\n",
    "        for layer in model.layers:\n",
    "            if (not layer.name.startswith(\"do\")):\n",
    "                layer.set_weights(class_weights[k])\n",
    "                k += 1\n",
    "\n",
    "    else:\n",
    "        #if i%10==1:\n",
    "            #plt.imshow(X0[0,:,:,1:4,0])\n",
    "            #plt.title(y0[0])\n",
    "            #plt.show()\n",
    "        source_classification_model.train_on_batch(X0,y0)\n",
    "\n",
    "\n",
    "    if ((i + 1) % 10 == 0):\n",
    "        print(i)\n",
    "        y_val_pred = source_classification_model.predict(val_arr)\n",
    "        #decidelesion is not accurate. threshold unknown\n",
    "        y_val_hat_t = [decidelesion(y_val_pred[i,0],-0.5,0.5)[0] for i in range(len(y_val_pred))]\n",
    "        acc_val = accuracy_score(val_label, y_val_hat_t)\n",
    "        \n",
    "        y_test_pred = source_classification_model.predict(test_arr)\n",
    "        y_test_hat_t = [decidelesion(y_test_pred[i,0],-0.5,0.5)[0] for i in range(len(y_test_pred))]\n",
    "        acc_test = accuracy_score(test_label, y_test_hat_t)\n",
    "        \n",
    "        #test_label -1,0,1, getauc needs 1,2,3\n",
    "        auc_adv, auc_all = getauc(y_test_pred, test_label+2)\n",
    "        \n",
    "        print(\"Iteration %d, val accuracy =  %.3f, target accuracy = %.3f. auc_adv = %.3f, auc_all = %.3f\"%\\\n",
    "              (i, acc_val, acc_test, auc_adv, auc_all))\n",
    "        \n",
    "        if ((i + 1) % 100 == 0):\n",
    "            model.save(taskname+'/Addweights%d-%.3f-%.3f.hdf5'%(i,auc_all,auc_adv))\n",
    "        else:\n",
    "            if best_val<acc_val:\n",
    "                best_val = acc_val \n",
    "                print('save best acc_val')\n",
    "                model.save(taskname+'/Addweights%d-%.3f-%.3f-%.3f-%.3f.hdf5'%(i,acc_val,acc_test,auc_all,auc_adv))\n",
    "            elif best_test<acc_test:\n",
    "                best_test = acc_test \n",
    "                print('save best acc_test')\n",
    "                model.save(taskname+'/Addweights%d-%.3f-%.3f-%.3f-%.3f.hdf5'%(i,acc_val,acc_test,auc_all,auc_adv))\n",
    "            elif best_auc_adv<auc_adv:\n",
    "                best_auc_adv = auc_adv\n",
    "                print('save best auc_adv')\n",
    "                model.save(taskname+'/Addweights%d-%.3f-%.3f-%.3f-%.3f.hdf5'%(i,acc_val,acc_test,auc_all,auc_adv))\n",
    "            elif best_auc_all<auc_all:\n",
    "                best_auc_all = auc_all\n",
    "                print('save best auc_all')\n",
    "                model.save(taskname+'/Addweights%d-%.3f-%.3f-%.3f-%.3f.hdf5'%(i,acc_val,acc_test,auc_all,auc_adv))"
   ]
  },
  {
   "cell_type": "code",
   "execution_count": null,
   "metadata": {},
   "outputs": [],
   "source": [
    "# pick a best model from training results\n",
    "model.load_weights(taskname+'/Addweights839-0.411-0.208-0.681-0.820.hdf5')"
   ]
  },
  {
   "cell_type": "code",
   "execution_count": null,
   "metadata": {},
   "outputs": [],
   "source": [
    "#save the classification sub model as a separate file for LATTE to load\n",
    "source_classification_model.save(taskname+'/Class_839-0.411-0.208-0.681-0.820.hdf5')"
   ]
  },
  {
   "cell_type": "markdown",
   "metadata": {},
   "source": [
    "# Pick a threshold from validation"
   ]
  },
  {
   "cell_type": "code",
   "execution_count": null,
   "metadata": {},
   "outputs": [],
   "source": [
    "y_val_pred = source_classification_model.predict(val_arr)\n",
    "#histogram of probability\n",
    "plt.hist(y_val_pred)"
   ]
  },
  {
   "cell_type": "code",
   "execution_count": null,
   "metadata": {},
   "outputs": [],
   "source": [
    "#calculate fpt tpr from different thres\n",
    "from sklearn.metrics import roc_curve, auc\n",
    "#val_label are -1,0,1\n",
    "fpr_all, tpr_all, thres_all = roc_curve(val_label>=0, y_val_pred)\n",
    "roc_auc_all = auc(fpr_all, tpr_all)\n",
    "\n",
    "fpr_adv, tpr_adv, thres_adv = roc_curve(val_label==1, y_val_pred)\n",
    "roc_auc_adv = auc(fpr_adv, tpr_adv)"
   ]
  },
  {
   "cell_type": "code",
   "execution_count": null,
   "metadata": {},
   "outputs": [],
   "source": [
    "#based on target sensitivity choose threshold\n",
    "target_sen_all = 0.75\n",
    "target_thres_all = thres_all[np.where(tpr_all>target_sen_all)[0][0]]\n",
    "target_fpr_all = fpr_all[np.where(tpr_all>target_sen_all)[0][0]]\n",
    "\n",
    "target_sen_adv = 0.8\n",
    "target_thres_adv = thres_adv[np.where(tpr_adv>target_sen_adv)[0][0]]\n",
    "target_fpr_adv = fpr_adv[np.where(tpr_adv>target_sen_adv)[0][0]]\n",
    "\n",
    "#target_thres_all = thres_all[np.argmax(tpr_all-fpr_all)]\n",
    "print('all lesions sensitivity: %.3f, specificity: %.3f, threshold: %.3f'%(target_sen_all,1-target_fpr_all,target_thres_all))\n",
    "print('adv lesions sensitivity: %.3f, specificity: %.3f, threshold: %.3f'%(target_sen_adv,1-target_fpr_adv,target_thres_adv))\n",
    "\n",
    "#input these threshold value into \n",
    "target_thres_all,target_thres_adv"
   ]
  },
  {
   "cell_type": "code",
   "execution_count": null,
   "metadata": {},
   "outputs": [],
   "source": [
    "y_val_hat_t = [decidelesion(y_val_pred[i,0],target_thres_all,target_thres_adv)[0] for i in range(len(y_val_pred))]\n",
    "acc_val = accuracy_score(val_label, y_val_hat_t)\n",
    "\n",
    "auc_adv, auc_all = getauc(y_val_pred, val_label+2)\n",
    "\n",
    "#validation acc auc\n",
    "acc_val, auc_adv, auc_all "
   ]
  },
  {
   "cell_type": "markdown",
   "metadata": {},
   "source": [
    "## compare with baseline\n"
   ]
  },
  {
   "cell_type": "code",
   "execution_count": 25,
   "metadata": {},
   "outputs": [],
   "source": [
    "# compare with baseline method\n",
    "Classifier_model = load_model(r'..\\VWClass5-4/Epo230-0.91675-0.79332.hdf5') "
   ]
  },
  {
   "cell_type": "code",
   "execution_count": null,
   "metadata": {},
   "outputs": [],
   "source": [
    "y_val_pred_bl = Classifier_model.predict(val_arr)\n",
    "auc_adv_bl, auc_all_bl = getauc(y_val_pred_bl, val_label+2)\n",
    "print('auc',auc_adv_bl, auc_all_bl)\n",
    "\n",
    "fpr_all_bl, tpr_all_bl, thres_all_bl = roc_curve(val_label>=0, y_val_pred_bl)\n",
    "roc_auc_all_bl = auc(fpr_all_bl, tpr_all_bl)\n",
    "fpr_adv_bl, tpr_adv_bl, thres_adv_bl = roc_curve(val_label==1, y_val_pred_bl)\n",
    "roc_auc_adv_bl = auc(fpr_adv_bl, tpr_adv_bl)"
   ]
  },
  {
   "cell_type": "code",
   "execution_count": null,
   "metadata": {},
   "outputs": [],
   "source": [
    "from LATTE.eval.utils import plot_auc\n",
    "plot_lines = [[fpr_adv, tpr_adv, 'darkorange', 'Domain adaptation Advance lesion ROC (area=%0.2f)' % roc_auc_adv,'-'],\n",
    "              [fpr_adv_bl, tpr_adv_bl, 'cornflowerblue','Baseline Advance lesion ROC (area=%0.2f)' % roc_auc_adv_bl,'--']\n",
    "             ]\n",
    "\n",
    "plot_auc(plot_lines, 'Receiver operating characteristic for CROP')\n"
   ]
  },
  {
   "cell_type": "markdown",
   "metadata": {},
   "source": [
    "# Evaluate on test"
   ]
  },
  {
   "cell_type": "code",
   "execution_count": null,
   "metadata": {},
   "outputs": [],
   "source": [
    "# also apply these numbers in LATTE notebook\n",
    "target_thres_all,target_thres_adv = -0.003657117, 0.0004494819"
   ]
  },
  {
   "cell_type": "code",
   "execution_count": null,
   "metadata": {},
   "outputs": [],
   "source": [
    "y_test_pred = [] \n",
    "y_test_pred_bl = [] \n",
    "test_label = []\n",
    "test_src = []\n",
    "for bi in range(len(target_pilist)):\n",
    "    print('\\r',bi,target_pilist[bi],len(y_test_pred),end=\"\")\n",
    "    test_arr_batch, test_label_batch, test_src_batch = load_patch(target_pilist[bi:bi+1],target_config,skip=1,\n",
    "                                                                  load_gt=True,load_src=True)    \n",
    "    if test_arr_batch.shape[0]==0:\n",
    "        continue\n",
    "    test_label.extend(test_label_batch)\n",
    "    test_src.extend(test_src_batch)\n",
    "    y_test_pred_batch = source_classification_model.predict(test_arr_batch)\n",
    "    y_test_pred.extend(y_test_pred_batch)\n",
    "    \n",
    "    #baseline method\n",
    "    y_test_pred_bl_batch = Classifier_model.predict(test_arr_batch)\n",
    "    y_test_pred_bl.extend(y_test_pred_bl_batch)\n",
    "    \n",
    "test_label = np.array(test_label)\n",
    "y_test_pred = np.array(y_test_pred)\n",
    "y_test_pred_bl = np.array(y_test_pred_bl)"
   ]
  },
  {
   "cell_type": "code",
   "execution_count": null,
   "metadata": {},
   "outputs": [],
   "source": [
    "np.save(taskname+'/test_label.npy',test_label)\n",
    "np.save(taskname+'/y_test_pred.npy',y_test_pred)\n",
    "np.save(taskname+'/y_test_pred_bl.npy',y_test_pred_bl)"
   ]
  },
  {
   "cell_type": "code",
   "execution_count": null,
   "metadata": {},
   "outputs": [],
   "source": [
    "test_label = np.load(taskname+'/test_label.npy')\n",
    "y_test_pred = np.load(taskname+'/y_test_pred.npy')\n",
    "y_test_pred_bl = np.load(taskname+'/y_test_pred_bl.npy')"
   ]
  },
  {
   "cell_type": "code",
   "execution_count": null,
   "metadata": {},
   "outputs": [],
   "source": [
    "#histogram of probability\n",
    "plt.hist(np.array(y_test_pred[::100]))"
   ]
  },
  {
   "cell_type": "code",
   "execution_count": null,
   "metadata": {},
   "outputs": [],
   "source": [
    "#category based on val thres\n",
    "from LATTE.classify.cnnclassify import decidelesion\n",
    "from LATTE.eval.evalmetric import getauc\n",
    "\n",
    "y_test_hat_t = [decidelesion(y_test_pred[i][0],target_thres_all,target_thres_adv)[0] for i in range(len(y_test_pred))]\n",
    "acc_test = accuracy_score(test_label, y_test_hat_t)\n",
    "\n",
    "auc_adv, auc_all = getauc(y_test_pred, test_label+2)\n",
    "\n",
    "#test acc auc\n",
    "print(acc_test, auc_adv, auc_all )\n",
    "\n",
    "\n",
    "#calculate fpt tpr from different thres\n",
    "from sklearn.metrics import roc_curve, auc\n",
    "#val_label are -1,0,1\n",
    "fpr_all, tpr_all, thres_all = roc_curve(test_label>=0, y_test_pred)\n",
    "roc_auc_all = auc(fpr_all, tpr_all)\n",
    "\n",
    "fpr_adv, tpr_adv, thres_adv = roc_curve(test_label==1, y_test_pred)\n",
    "roc_auc_adv = auc(fpr_adv, tpr_adv)\n",
    "\n"
   ]
  },
  {
   "cell_type": "code",
   "execution_count": null,
   "metadata": {},
   "outputs": [],
   "source": [
    "# baseline method\n",
    "auc_adv_bl, auc_all_bl = getauc(y_test_pred_bl, test_label+2)\n",
    "print('auc',auc_adv_bl, auc_all_bl)\n",
    "\n",
    "fpr_all_bl, tpr_all_bl, thres_all_bl = roc_curve(test_label>=0, y_test_pred_bl)\n",
    "roc_auc_all_bl = auc(fpr_all_bl, tpr_all_bl)\n",
    "fpr_adv_bl, tpr_adv_bl, thres_adv_bl = roc_curve(test_label==1, y_test_pred_bl)\n",
    "roc_auc_adv_bl = auc(fpr_adv_bl, tpr_adv_bl)"
   ]
  },
  {
   "cell_type": "code",
   "execution_count": null,
   "metadata": {},
   "outputs": [],
   "source": [
    "#draw auc for domain adaptation and baseline\n",
    "from LATTE.eval.utils import plot_auc\n",
    "plot_lines = [[fpr_adv, tpr_adv, 'darkorange', 'Domain adaptation Advance lesion ROC (area=%0.2f)' % roc_auc_adv,'-'],\n",
    "              [fpr_adv_bl, tpr_adv_bl, 'cornflowerblue','Baseline Advance lesion ROC (area=%0.2f)' % roc_auc_adv_bl,'--']\n",
    "             ]\n",
    "\n",
    "plot_auc(plot_lines, 'Receiver operating characteristic for Renji')\n"
   ]
  },
  {
   "cell_type": "code",
   "execution_count": null,
   "metadata": {},
   "outputs": [],
   "source": [
    "plot_lines = [[fpr_all, tpr_all, 'darkorange', 'Domain adaptation All lesion ROC (area=%0.2f)' % roc_auc_all,'-'],\n",
    "              [fpr_all_bl, tpr_all_bl, 'cornflowerblue','Baseline All lesion ROC (area=%0.2f)' % roc_auc_all_bl,'--']\n",
    "             ]\n",
    "\n",
    "plot_auc(plot_lines, 'Receiver operating characteristic for Renji')"
   ]
  },
  {
   "cell_type": "code",
   "execution_count": null,
   "metadata": {},
   "outputs": [],
   "source": [
    "cfmx = np.zeros((4,4))\n",
    "for i in range(len(y_test_hat_t)):\n",
    "    cfmx[test_label[i]+2][y_test_hat_t[i]+1] += 1\n",
    "cfmx"
   ]
  },
  {
   "cell_type": "code",
   "execution_count": null,
   "metadata": {},
   "outputs": [],
   "source": [
    "from LATTE.eval.utils import prtmat,toadvmat,toallmat,threeclassacc,advclassacc,getclasspred,getauc,featconfmat,reportcfx\n",
    "reportcfx(toadvmat(cfmx),'Advance Lesion ')\n",
    "reportcfx(toallmat(cfmx),'Any Lesion ')"
   ]
  },
  {
   "cell_type": "code",
   "execution_count": null,
   "metadata": {},
   "outputs": [],
   "source": [
    "#check err imgs\n",
    "tid = 16\n",
    "\n",
    "for tid in range(len(y_test_hat_t)):\n",
    "    if test_label[tid]+2==3 and y_test_hat_t[tid]+1==1:\n",
    "        pi = test_src[tid]['pi']\n",
    "        seqid = test_src[tid]['seqid']\n",
    "        seqbbid = test_src[tid]['seqbbid']\n",
    "\n",
    "        latte = Latte(target_config, pi, '')\n",
    "        seqbbsim = latte.seqbbsim\n",
    "        segpatchfolder = latte.fnames['segpatchfolder']\n",
    "        slicei, bbid = seqbbsim[seqid][seqbbid]\n",
    "        artlabel = latte.all_artery_objs[slicei]['object'][bbid]['artlabel']\n",
    "        gtlabel_type = latte.all_artery_objs[slicei]['gtlabel'][artlabel]\n",
    "\n",
    "        from LATTE.classify.cnnclassify import collectsegpatch\n",
    "        neigh = 2\n",
    "        polaravail = True\n",
    "        segpatch = collectsegpatch(seqbbsim, seqid, seqbbid, neigh, pi, segpatchfolder, polaravail)\n",
    "        plt.imshow(np.hstack([segpatch[:,:,2,0],segpatch[:,:,2,1]]),cmap='gray')\n",
    "        plt.axis('off')\n",
    "        plt.show()\n",
    "        print(pi,slicei,seqid,seqbbid,gtlabel_type,artlabel)\n",
    "\n",
    "        "
   ]
  }
 ],
 "metadata": {
  "kernelspec": {
   "display_name": "Python [conda env:tf] *",
   "language": "python",
   "name": "conda-env-tf-py"
  },
  "language_info": {
   "codemirror_mode": {
    "name": "ipython",
    "version": 3
   },
   "file_extension": ".py",
   "mimetype": "text/x-python",
   "name": "python",
   "nbconvert_exporter": "python",
   "pygments_lexer": "ipython3",
   "version": "3.7.7"
  }
 },
 "nbformat": 4,
 "nbformat_minor": 4
}
